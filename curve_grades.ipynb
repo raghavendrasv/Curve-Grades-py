{
 "cells": [
  {
   "cell_type": "markdown",
   "id": "0f84e573",
   "metadata": {},
   "source": [
    "PROGRAM: Curve Grades\n",
    "\n",
    "PURPOSE: This programs takes \"Scores.txt\" file with a list of studnet test scores as input, evaluate letter grades and output a text file with the grades against all the scores.\n",
    "\n",
    "INPUT: The \"Scores.txt\" file and the equations for converting the scores to letter grade are taken as input.\n",
    "\n",
    "Legend: ES = exam score; m = mean; s = standard deviation\n",
    "\n",
    "Grade Algorithm\n",
    "\n",
    "A: m + 1.5s ≤ ES\n",
    "B: m + .5s ≤ ES < m + 1.5s\n",
    "C: m - .5s ≤ ES < m + .5s\n",
    "D: m - 1.5s ≤ ES < m - .5s\n",
    "F: ES < m - 1.5s\n",
    "\n",
    "PROCESS: \n",
    "1.  Function to read scores from file\n",
    "2.  Function to calculate the mean of a list (in this case scores)\n",
    "3.  Function to calculate the standard deviation of a list\n",
    "4.  Function to calculate descriptive statistics such as mean, stdDeviation, count, max, and min\n",
    "5.  Function to calculate the letter grade for a given score based on cutoffs\n",
    "6.  Function to generate a list of letter grades for a list of scores\n",
    "7.  Function to count the distribution of letter grades\n",
    "8.  Function to write scores and letter grades to a file\n",
    "9.  Function to display the descriptive statistics and grade distribution\n",
    "10. Main function to control the program flow\n",
    "\n",
    "OUTPUT: Display the descriptive statistics of the scores from the text and grade distribution based on the letter grade calculations.\n",
    "\n",
    "Issue: It would have been much easier to use a statistical analysis library instead of writing different functions to do it. Though now we can use these functions as modules in our future programs.\n",
    "\n",
    "HONOR CODE: On my honor, as an Aggie, I have neither given nor received unauthorized aid on this academic work."
   ]
  },
  {
   "cell_type": "markdown",
   "id": "2b49aea2",
   "metadata": {},
   "source": [
    "# Function to read scores from a file"
   ]
  },
  {
   "cell_type": "code",
   "execution_count": 1,
   "id": "0fec98e0",
   "metadata": {},
   "outputs": [],
   "source": [
    "def readScoresFile(file_name):\n",
    "    scores = []\n",
    "    with open(file_name, \"r\") as file:\n",
    "        for line in file:\n",
    "            # Read and convert each score to an integer\n",
    "            score = int(line.strip())\n",
    "            scores.append(score)\n",
    "    return scores\n"
   ]
  },
  {
   "cell_type": "markdown",
   "id": "cb184107",
   "metadata": {},
   "source": [
    "# Function to calculate the mean of a list of scores"
   ]
  },
  {
   "cell_type": "code",
   "execution_count": 2,
   "id": "675bcaa3",
   "metadata": {},
   "outputs": [],
   "source": [
    "def calculateMean(scores):\n",
    "    total = sum(scores)\n",
    "    mean = total / len(scores)\n",
    "    return mean\n"
   ]
  },
  {
   "cell_type": "markdown",
   "id": "1deabf91",
   "metadata": {},
   "source": [
    "# Function to calculate the standard deviation of a list of scores"
   ]
  },
  {
   "cell_type": "code",
   "execution_count": 3,
   "id": "e734f4b9",
   "metadata": {},
   "outputs": [],
   "source": [
    "\n",
    "def calculateStandardDeviation(scores, mean):\n",
    "    n = len(scores)\n",
    "    squaredDiff = sum((x - mean) ** 2 for x in scores)\n",
    "    variance = squaredDiff / n\n",
    "    stdDeviation = variance ** 0.5\n",
    "    return stdDeviation\n"
   ]
  },
  {
   "cell_type": "markdown",
   "id": "18e2a5b7",
   "metadata": {},
   "source": [
    "# Function to calculate descriptive statistics such as mean, stdDeviation, count, max, and min"
   ]
  },
  {
   "cell_type": "code",
   "execution_count": 4,
   "id": "e9e7fa44",
   "metadata": {},
   "outputs": [],
   "source": [
    "\n",
    "def calculateDescriptiveStatistics(scores):\n",
    "    mean = calculateMean(scores)\n",
    "    stdDeviation = calculateStandardDeviation(scores, mean)\n",
    "    count = len(scores)\n",
    "    maxScore = max(scores)\n",
    "    minScore = min(scores)\n",
    "    return mean, stdDeviation, count, maxScore, minScore\n"
   ]
  },
  {
   "cell_type": "markdown",
   "id": "86166e7b",
   "metadata": {},
   "source": [
    "# Function to calculate the letter grade for a given score based on cutoffs"
   ]
  },
  {
   "cell_type": "code",
   "execution_count": 5,
   "id": "fb1c6ec4",
   "metadata": {},
   "outputs": [],
   "source": [
    "\n",
    "def calculateLetterGrade(score, mean, stdDeviation):\n",
    "    # Define the cutoff points for each grade\n",
    "    cutoffs = {\n",
    "        'A': round(mean + 1.5 * stdDeviation, 1),\n",
    "        'B': round(mean + 0.5 * stdDeviation, 1),\n",
    "        'C': round(mean - 0.5 * stdDeviation, 1),\n",
    "        'D': round(mean - 1.5 * stdDeviation, 1)\n",
    "    }\n",
    "    # Determine the letter grade based on the score\n",
    "    if score >= cutoffs['A']:\n",
    "        return 'A'\n",
    "    elif score >= cutoffs['B']:\n",
    "        return 'B'\n",
    "    elif score >= cutoffs['C']:\n",
    "        return 'C'\n",
    "    elif score >= cutoffs['D']:\n",
    "        return 'D'\n",
    "    else:\n",
    "        return 'F'\n"
   ]
  },
  {
   "cell_type": "markdown",
   "id": "58bfd243",
   "metadata": {},
   "source": [
    "# Function to generate a list of letter grades for a list of scores"
   ]
  },
  {
   "cell_type": "code",
   "execution_count": 6,
   "id": "871c2ea6",
   "metadata": {},
   "outputs": [],
   "source": [
    "\n",
    "def generateLetterGradeTable(scores, mean, stdDeviation):\n",
    "    letterGrades = [calculateLetterGrade(score, mean, stdDeviation) for score in scores]\n",
    "    return letterGrades\n"
   ]
  },
  {
   "cell_type": "markdown",
   "id": "4aa09b50",
   "metadata": {},
   "source": [
    "# Function to count the distribution of letter grades"
   ]
  },
  {
   "cell_type": "code",
   "execution_count": 7,
   "id": "d5ec366a",
   "metadata": {},
   "outputs": [],
   "source": [
    "\n",
    "def countGradeDistribution(letterGrades):\n",
    "    gradeCounts = {}\n",
    "    for grade in letterGrades:\n",
    "        # Count the number of each grade using a dictionary\n",
    "        gradeCounts[grade] = gradeCounts.get(grade, 0) + 1\n",
    "    return gradeCounts\n"
   ]
  },
  {
   "cell_type": "markdown",
   "id": "ee25e82e",
   "metadata": {},
   "source": [
    "# Function to write scores and letter grades to a file"
   ]
  },
  {
   "cell_type": "code",
   "execution_count": 8,
   "id": "fd73ac91",
   "metadata": {},
   "outputs": [],
   "source": [
    "\n",
    "def writeScoresAndLetterGrades(file_name, scores, letterGrades):\n",
    "    with open(file_name, \"w\") as file:\n",
    "        for score, grade in zip(scores, letterGrades):\n",
    "            # Write each score and its corresponding letter grade to the file\n",
    "            file.write(f\"{score},{grade}\\n\")\n"
   ]
  },
  {
   "cell_type": "markdown",
   "id": "785e15fc",
   "metadata": {},
   "source": [
    "# Function to display the descriptive statistics and grade distribution"
   ]
  },
  {
   "cell_type": "code",
   "execution_count": 9,
   "id": "be611ec7",
   "metadata": {},
   "outputs": [],
   "source": [
    "\n",
    "def displayResults(mean, stdDeviation, count, maxScore, minScore, gradeCounts):\n",
    "    print(\"Descriptive Statistics\")\n",
    "    print(\"Mean Score: {:.1f}\".format(mean))\n",
    "    print(\"Standard Deviation: {:.1f}\".format(stdDeviation))\n",
    "    print(\"Number of Scores: {}\".format(count))\n",
    "    print(\"Highest Score: {}\".format(maxScore))\n",
    "    print(\"Lowest Score: {}\".format(minScore))\n",
    "    print(\"\\nGrade Distribution After Curving Grades\")\n",
    "    for grade, count in gradeCounts.items():\n",
    "        print(\"{}: {}\".format(grade, count))\n"
   ]
  },
  {
   "cell_type": "markdown",
   "id": "9b83f9df",
   "metadata": {},
   "source": [
    "# Main function to control the program flow"
   ]
  },
  {
   "cell_type": "code",
   "execution_count": 12,
   "id": "c85cd5cb",
   "metadata": {},
   "outputs": [
    {
     "name": "stdout",
     "output_type": "stream",
     "text": [
      "Curved Grade - Cut Off Points (to 1 decimal place)\n",
      "A: 98.4\n",
      "B: 85.4\n",
      "C: 72.3\n",
      "D: 59.3\n",
      "Descriptive Statistics\n",
      "Mean Score: 78.9\n",
      "Standard Deviation: 13.0\n",
      "Number of Scores: 200\n",
      "Highest Score: 100\n",
      "Lowest Score: 55\n",
      "\n",
      "Grade Distribution After Curving Grades\n",
      "D: 48\n",
      "B: 65\n",
      "C: 59\n",
      "A: 12\n",
      "F: 16\n",
      "\n",
      "The scores and respective letter grades are written to a new text file \"Scores-and-Letter-Grades.txt\".\n"
     ]
    }
   ],
   "source": [
    "\n",
    "def main():\n",
    "    \n",
    "    scores = readScoresFile(\"Scores.txt\")\n",
    "    mean, stdDeviation, count, maxScore, minScore = calculateDescriptiveStatistics(scores)\n",
    "    letterGrades = generateLetterGradeTable(scores, mean, stdDeviation)\n",
    "    gradeCounts = countGradeDistribution(letterGrades)\n",
    "    writeScoresAndLetterGrades(\"Scores-and-Letter-Grades.txt\", scores, letterGrades)\n",
    "\n",
    "    # Define the cutoff points for each grade\n",
    "    cutoffs = {\n",
    "        'A': round(mean + 1.5 * stdDeviation, 1),\n",
    "        'B': round(mean + 0.5 * stdDeviation, 1),\n",
    "        'C': round(mean - 0.5 * stdDeviation, 1),\n",
    "        'D': round(mean - 1.5 * stdDeviation, 1)\n",
    "    }\n",
    "\n",
    "    # Display the cutoff points for each grade\n",
    "    print(\"Curved Grade - Cut Off Points (to 1 decimal place)\")\n",
    "    for grade, cutoff in cutoffs.items():\n",
    "        print(f\"{grade}: {cutoff}\")\n",
    "\n",
    "    # Display the results including descriptive statistics and grade distribution\n",
    "    displayResults(mean, stdDeviation, count, maxScore, minScore, gradeCounts)\n",
    "    print(\"\\nThe scores and respective letter grades are written to a new text file \\\"Scores-and-Letter-Grades.txt\\\".\")\n",
    "\n",
    "if __name__ == \"__main__\":\n",
    "    main()\n"
   ]
  },
  {
   "cell_type": "code",
   "execution_count": null,
   "id": "d89812cb",
   "metadata": {},
   "outputs": [],
   "source": []
  }
 ],
 "metadata": {
  "kernelspec": {
   "display_name": "Python 3 (ipykernel)",
   "language": "python",
   "name": "python3"
  },
  "language_info": {
   "codemirror_mode": {
    "name": "ipython",
    "version": 3
   },
   "file_extension": ".py",
   "mimetype": "text/x-python",
   "name": "python",
   "nbconvert_exporter": "python",
   "pygments_lexer": "ipython3",
   "version": "3.11.4"
  }
 },
 "nbformat": 4,
 "nbformat_minor": 5
}
